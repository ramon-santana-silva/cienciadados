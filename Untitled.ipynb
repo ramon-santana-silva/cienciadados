{
 "cells": [
  {
   "cell_type": "markdown",
   "id": "29e9f853",
   "metadata": {},
   "source": [
    "Analise dos microdados do ENEM"
   ]
  },
  {
   "cell_type": "code",
   "execution_count": 1,
   "id": "43842fd2",
   "metadata": {},
   "outputs": [],
   "source": [
    "import pandas as pd"
   ]
  },
  {
   "cell_type": "code",
   "execution_count": 2,
   "id": "301a7311",
   "metadata": {},
   "outputs": [],
   "source": [
    "microdadosEnem= pd.read_csv(\"advertising.csv\", sep=\",\")"
   ]
  },
  {
   "cell_type": "code",
   "execution_count": 3,
   "id": "8a66faf7",
   "metadata": {},
   "outputs": [
    {
     "name": "stdout",
     "output_type": "stream",
     "text": [
      "        TV  Radio  Jornal  Vendas\n",
      "0    230.1   37.8    69.2    22.1\n",
      "1     44.5   39.3    45.1    10.4\n",
      "2     17.2   45.9    69.3    12.0\n",
      "3    151.5   41.3    58.5    16.5\n",
      "4    180.8   10.8    58.4    17.9\n",
      "..     ...    ...     ...     ...\n",
      "195   38.2    3.7    13.8     7.6\n",
      "196   94.2    4.9     8.1    14.0\n",
      "197  177.0    9.3     6.4    14.8\n",
      "198  283.6   42.0    66.2    25.5\n",
      "199  232.1    8.6     8.7    18.4\n",
      "\n",
      "[200 rows x 4 columns]\n"
     ]
    }
   ],
   "source": [
    "print(microdadosEnem)"
   ]
  },
  {
   "cell_type": "code",
   "execution_count": null,
   "id": "7a26c17f",
   "metadata": {},
   "outputs": [],
   "source": []
  }
 ],
 "metadata": {
  "kernelspec": {
   "display_name": "Python 3 (ipykernel)",
   "language": "python",
   "name": "python3"
  },
  "language_info": {
   "codemirror_mode": {
    "name": "ipython",
    "version": 3
   },
   "file_extension": ".py",
   "mimetype": "text/x-python",
   "name": "python",
   "nbconvert_exporter": "python",
   "pygments_lexer": "ipython3",
   "version": "3.9.12"
  }
 },
 "nbformat": 4,
 "nbformat_minor": 5
}
